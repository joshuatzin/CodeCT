{
 "cells": [
  {
   "cell_type": "code",
   "execution_count": 37,
   "metadata": {},
   "outputs": [],
   "source": [
    "import os\n",
    "\n",
    "fileDir = r\"C:\\Users\\joc_h\"\n",
    "fileExt = r\".txt\"\n",
    "files_in_dir = [_ for _ in os.listdir(fileDir) if _.endswith(fileExt)]\n",
    "\n",
    "convertir = files_in_dir[0][12:15]\n",
    "a = int(convertir)\n",
    "a\n",
    "\n",
    "convertir2 = files_in_dir[-2][11:15]\n",
    "b = int(convertir2)\n",
    "b\n",
    "\n",
    "listanumerica1 = range(a,1000,100)\n",
    "list_of_files1 = [str(i) for i in listanumerica1]\n",
    "append_str1 = '20161110-000'\n",
    "append_str2 = '.txt'\n",
    "list_of_files1 = [append_str1 + sub for sub in list_of_files1] \n",
    "list_of_files1 = [sub + append_str2 for sub in list_of_files1] \n",
    "\n",
    "listanumerica2 = range(1000,b+100,100)\n",
    "list_of_files2 = [str(i) for i in listanumerica2]\n",
    "append_str3 = '20161110-00'\n",
    "list_of_files2 = [append_str3 + sub for sub in list_of_files2] \n",
    "list_of_files2 = [sub + append_str2 for sub in list_of_files2]\n",
    "\n",
    "list_of_files = list_of_files1 + list_of_files2\n",
    "list_of_files\n",
    "\n",
    "missing_files = [x for x in list_of_files if x not in files_in_dir]"
   ]
  },
  {
   "cell_type": "code",
   "execution_count": 39,
   "metadata": {},
   "outputs": [
    {
     "data": {
      "text/plain": [
       "['20161110-000300.txt',\n",
       " '20161110-000400.txt',\n",
       " '20161110-000600.txt',\n",
       " '20161110-000700.txt',\n",
       " '20161110-001100.txt',\n",
       " '20161110-001700.txt',\n",
       " '20161110-002000.txt',\n",
       " 'out.txt']"
      ]
     },
     "execution_count": 39,
     "metadata": {},
     "output_type": "execute_result"
    }
   ],
   "source": [
    "files_in_dir"
   ]
  },
  {
   "cell_type": "code",
   "execution_count": 40,
   "metadata": {},
   "outputs": [
    {
     "data": {
      "text/plain": [
       "['20161110-000300.txt',\n",
       " '20161110-000400.txt',\n",
       " '20161110-000500.txt',\n",
       " '20161110-000600.txt',\n",
       " '20161110-000700.txt',\n",
       " '20161110-000800.txt',\n",
       " '20161110-000900.txt',\n",
       " '20161110-001000.txt',\n",
       " '20161110-001100.txt',\n",
       " '20161110-001200.txt',\n",
       " '20161110-001300.txt',\n",
       " '20161110-001400.txt',\n",
       " '20161110-001500.txt',\n",
       " '20161110-001600.txt',\n",
       " '20161110-001700.txt',\n",
       " '20161110-001800.txt',\n",
       " '20161110-001900.txt',\n",
       " '20161110-002000.txt']"
      ]
     },
     "execution_count": 40,
     "metadata": {},
     "output_type": "execute_result"
    }
   ],
   "source": [
    "list_of_files"
   ]
  },
  {
   "cell_type": "code",
   "execution_count": 41,
   "metadata": {},
   "outputs": [
    {
     "data": {
      "text/plain": [
       "['20161110-000500.txt',\n",
       " '20161110-000800.txt',\n",
       " '20161110-000900.txt',\n",
       " '20161110-001000.txt',\n",
       " '20161110-001200.txt',\n",
       " '20161110-001300.txt',\n",
       " '20161110-001400.txt',\n",
       " '20161110-001500.txt',\n",
       " '20161110-001600.txt',\n",
       " '20161110-001800.txt',\n",
       " '20161110-001900.txt']"
      ]
     },
     "execution_count": 41,
     "metadata": {},
     "output_type": "execute_result"
    }
   ],
   "source": [
    "missing_files"
   ]
  },
  {
   "cell_type": "code",
   "execution_count": 42,
   "metadata": {},
   "outputs": [],
   "source": [
    "for item in missing_files: \n",
    "    open(r\"C:\\Users\\joc_h/%s\"%(item,), 'w') "
   ]
  },
  {
   "cell_type": "code",
   "execution_count": 43,
   "metadata": {},
   "outputs": [],
   "source": [
    "for name in missing_files:\n",
    "     with open(\"out.txt\") as f:\n",
    "       with open(name, \"w\") as f1:\n",
    "        for line in f:\n",
    "            f1.write(line)"
   ]
  }
 ],
 "metadata": {
  "kernelspec": {
   "display_name": "Python 3",
   "language": "python",
   "name": "python3"
  },
  "language_info": {
   "codemirror_mode": {
    "name": "ipython",
    "version": 3
   },
   "file_extension": ".py",
   "mimetype": "text/x-python",
   "name": "python",
   "nbconvert_exporter": "python",
   "pygments_lexer": "ipython3",
   "version": "3.7.3"
  }
 },
 "nbformat": 4,
 "nbformat_minor": 2
}
