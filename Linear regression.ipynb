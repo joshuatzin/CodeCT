{
 "cells": [
  {
   "cell_type": "markdown",
   "id": "bcf81afb",
   "metadata": {},
   "source": [
    "# Linear regression"
   ]
  },
  {
   "cell_type": "code",
   "execution_count": 32,
   "id": "0504830e",
   "metadata": {},
   "outputs": [],
   "source": [
    "#install.packages(\"readxl\")\n",
    "#install.packages(\"tidyverse\")\n",
    "#install.packages(\"boot\")\n",
    "#install.packages(\"car\")\n",
    "#install.packages(\"QuantPsyc\")\n",
    "#install.packages(\"ggplot2\")\n",
    "#library(readxl)\n",
    "#library(tidyverse)\n",
    "#library(boot)\n",
    "#library(car)\n",
    "#library(QuantPsyc)\n",
    "#library(ggplot2)"
   ]
  },
  {
   "cell_type": "code",
   "execution_count": 33,
   "id": "7c8b437d",
   "metadata": {},
   "outputs": [],
   "source": [
    "#Read data\n",
    "#Datos <- read_excel(\"C:/Users/joc_h/Desktop/Datos.xlsx\")\n",
    "\n",
    "#Display data\n",
    "#Datos\n",
    "\n",
    "#Plot data\n",
    "#plot(Datos$Sup, Datos$Prod, xlab=\"Superficie sembrada (ha)\", ylab=\"Producción de frijol (ton)\")\n",
    "\n",
    "#Covariance\n",
    "#cov(Datos$Sup, Datos$Prod)\n",
    "\n",
    "#Pearson correlation coefficient\n",
    "#cor(Datos$Precip, Datos$Prod,  method = \"pearson\")"
   ]
  },
  {
   "cell_type": "code",
   "execution_count": 37,
   "id": "ad0991ac",
   "metadata": {},
   "outputs": [],
   "source": [
    "#modelo=lm (Prodln ~ Supln, data=Datos, na.action = na.exclude)\n",
    "#summary(modelo)"
   ]
  }
 ],
 "metadata": {
  "kernelspec": {
   "display_name": "R",
   "language": "R",
   "name": "ir"
  },
  "language_info": {
   "codemirror_mode": "r",
   "file_extension": ".r",
   "mimetype": "text/x-r-source",
   "name": "R",
   "pygments_lexer": "r",
   "version": "3.6.1"
  }
 },
 "nbformat": 4,
 "nbformat_minor": 5
}
